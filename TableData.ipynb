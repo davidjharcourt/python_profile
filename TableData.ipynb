{
 "cells": [
  {
   "cell_type": "code",
   "execution_count": 5,
   "metadata": {},
   "outputs": [
    {
     "name": "stdout",
     "output_type": "stream",
     "text": [
      "kalido_cert\n",
      "kalido_cert\n",
      "kalido_cert\n",
      "kalido_cert\n",
      "kalido_cert\n",
      "kalido_cert\n"
     ]
    }
   ],
   "source": [
    "import pyodbc\n",
    "\n",
    "driver = 'SQL Server'\n",
    "server = 'cvgwqclu14db,1433'\n",
    "database = 'Kalido_CERT'\n",
    "table = 'dbo.MDT_EXPOSURE_BASIS'\n",
    "\n",
    "\n",
    "conn = pyodbc.connect('Driver={SQL Server};'\n",
    "                      f'Server={server};'\n",
    "                      f'Database={database};'\n",
    "                      'Trusted_Connection=yes;'\n",
    ")\n",
    "\n",
    "cursor = conn.cursor()\n",
    "cursor.execute('exec sp_columns ATT_APPLICATION,dbo,Kalido_CERT;')\n",
    "\n",
    "for row in cursor:\n",
    "    print(f'{row[0].lower()}' )\n",
    "\n",
    "\n",
    "\n"
   ]
  },
  {
   "cell_type": "code",
   "execution_count": null,
   "metadata": {},
   "outputs": [],
   "source": []
  }
 ],
 "metadata": {
  "kernelspec": {
   "display_name": "Python 3",
   "language": "python",
   "name": "python3"
  },
  "language_info": {
   "codemirror_mode": {
    "name": "ipython",
    "version": 3
   },
   "file_extension": ".py",
   "mimetype": "text/x-python",
   "name": "python",
   "nbconvert_exporter": "python",
   "pygments_lexer": "ipython3",
   "version": "3.7.1"
  }
 },
 "nbformat": 4,
 "nbformat_minor": 2
}
