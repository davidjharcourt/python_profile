{
 "cells": [
  {
   "cell_type": "code",
   "execution_count": 1,
   "metadata": {},
   "outputs": [
    {
     "name": "stdout",
     "output_type": "stream",
     "text": [
      "('Kalido_CERT', 'dbo', 'ATT_APPLICATION', 'BE_ID', 12, 'varchar', 10, 10, None, None, 1, None, None, 12, None, 10, 1, 'YES', 39)\n",
      "('Kalido_CERT', 'dbo', 'ATT_APPLICATION', 'START_DATE', 11, 'datetime', 23, 16, 3, None, 1, None, None, 9, 3, None, 2, 'YES', 111)\n",
      "('Kalido_CERT', 'dbo', 'ATT_APPLICATION', 'END_DATE', 11, 'datetime', 23, 16, 3, None, 1, None, None, 9, 3, None, 3, 'YES', 111)\n",
      "('Kalido_CERT', 'dbo', 'ATT_APPLICATION', 'BE_NAME', 12, 'varchar', 255, 255, None, None, 1, None, None, 12, None, 255, 4, 'YES', 39)\n",
      "('Kalido_CERT', 'dbo', 'ATT_APPLICATION', 'APPLICATION_CODE', 12, 'varchar', 255, 255, None, None, 1, None, None, 12, None, 255, 5, 'YES', 39)\n",
      "('Kalido_CERT', 'dbo', 'ATT_APPLICATION', 'CLSN_IND', 2, 'numeric', 1, 3, 0, 10, 1, None, None, 2, None, None, 6, 'YES', 108)\n"
     ]
    }
   ],
   "source": [
    "import pyodbc\n",
    "\n",
    "# Set variables for database query (should I capture this in a file? a prompt?)\n",
    "\n",
    "driver = 'SQL Server'\n",
    "server = 'cvgwqclu14db,1433'\n",
    "database = 'Kalido_CERT'\n",
    "table = 'dbo.MDT_EXPOSURE_BASIS'\n",
    "my_data_type = 'none yet' #temp\n",
    "\n",
    "# Connect to the database\n",
    "\n",
    "conn = pyodbc.connect('Driver={SQL Server};'\n",
    "                      f'Server={server};'\n",
    "                      f'Database={database};'\n",
    "                      'Trusted_Connection=yes;'\n",
    ")\n",
    "\n",
    "# Capture results of query\n",
    "cursor = conn.cursor()\n",
    "cursor.execute('exec sp_columns ATT_APPLICATION,dbo,Kalido_CERT;')\n",
    "\n",
    "for row in cursor:\n",
    "    print(row)\n",
    "\n",
    "\n"
   ]
  },
  {
   "cell_type": "code",
   "execution_count": 6,
   "metadata": {},
   "outputs": [
    {
     "data": {
      "text/plain": [
       "330"
      ]
     },
     "execution_count": 6,
     "metadata": {},
     "output_type": "execute_result"
    }
   ],
   "source": [
    "import pyodbc\n",
    "# Set variables for database query (should I capture this in a file? a prompt?)\n",
    "\n",
    "driver = 'SQL Server'\n",
    "server = 'cvgwqclu14db,1433'\n",
    "database = 'Kalido_CERT'\n",
    "table = 'dbo.MDT_EXPOSURE_BASIS'\n",
    "my_data_type = 'none yet' #temp\n",
    "\n",
    "# Connect to the database\n",
    "\n",
    "conn = pyodbc.connect('Driver={SQL Server};'\n",
    "                      f'Server={server};'\n",
    "                      f'Database={database};'\n",
    "                      'Trusted_Connection=yes;'\n",
    ")\n",
    "\n",
    "# Capture results of query\n",
    "cursor = conn.cursor()\n",
    "cursor.execute('exec sp_columns ATT_APPLICATION,dbo,Kalido_CERT;')\n",
    "cursor = tuple(cursor)\n",
    "\n",
    "# Determine my_data_type based on details of columns\n",
    "# Output results of query in desired syntax\n",
    "\n",
    "strings = ('varchar','nvarchar','char')\n",
    "ints = ('bigint','int')\n",
    "decs = ('numeric','decimal')\n",
    "dates = ('datetime')\n",
    "other_types = ('uniqueidentifier','varbinary')\n",
    "\n",
    "my_str = ''\n",
    "\n",
    "for row in cursor:\n",
    "    if row[5] in strings:\n",
    "        my_data_type = 'string'\n",
    "        my_str += (f\"\"\"{row[0].lower()}|{row[0].lower()}|\"string\",\"{my_data_type}\",\"{my_data_type}\"\\n\"\"\")\n",
    "    elif row[5] in dates:\n",
    "        my_data_type = 'timestamp'\n",
    "        my_str += (f\"\"\"{row[0].lower()}|{row[0].lower()}|\"string\",\"{my_data_type}\",\"{my_data_type}\"\\n\"\"\")\n",
    "    elif row[5] in ints:\n",
    "        my_data_type = 'bigint'\n",
    "        my_str += (f\"\"\"{row[0].lower()}|{row[0].lower()}|\"string\",\"{my_data_type}\",\"{my_data_type}\"\\n\"\"\")\n",
    "    elif row[5] in decs: \n",
    "        my_data_type = 'decimal'\n",
    "        my_str += (f\"\"\"{row[0].lower()}|{row[0].lower()}|\"string\",\"{my_data_type}({row[6]},{row[8]})\",\"{my_data_type}({row[6]},{row[8]})\"\\n\"\"\")\n",
    "    else:\n",
    "        my_data_type = 'ERROR!'\n",
    "\n",
    "# Put the output in a text file\n",
    "\n",
    "open('C:\\\\Users\\\\dharcourt\\\\Desktop\\\\output.txt','w').write(my_str)"
   ]
  }
 ],
 "metadata": {
  "kernelspec": {
   "display_name": "Python 3",
   "language": "python",
   "name": "python3"
  },
  "language_info": {
   "codemirror_mode": {
    "name": "ipython",
    "version": 3
   },
   "file_extension": ".py",
   "mimetype": "text/x-python",
   "name": "python",
   "nbconvert_exporter": "python",
   "pygments_lexer": "ipython3",
   "version": "3.7.1"
  }
 },
 "nbformat": 4,
 "nbformat_minor": 2
}
